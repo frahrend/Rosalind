{
 "cells": [
  {
   "cell_type": "markdown",
   "metadata": {},
   "source": [
    "## Having fun with Rosalind"
   ]
  },
  {
   "cell_type": "markdown",
   "metadata": {},
   "source": [
    "Import Libraries"
   ]
  },
  {
   "cell_type": "code",
   "execution_count": 147,
   "metadata": {},
   "outputs": [],
   "source": [
    "import pandas as pd"
   ]
  },
  {
   "cell_type": "markdown",
   "metadata": {},
   "source": [
    "### Counting DNA Nucleotides"
   ]
  },
  {
   "cell_type": "markdown",
   "metadata": {},
   "source": [
    "Given: A DNA string s of length at most 1000 nt.\n",
    "\n",
    "Return: Four integers (separated by spaces) counting the respective number of times that the symbols 'A', 'C', 'G', and 'T' occur in s."
   ]
  },
  {
   "cell_type": "code",
   "execution_count": 31,
   "metadata": {},
   "outputs": [],
   "source": [
    "#input\n",
    "DNAstr1 = 'TTGCGTCGAAAATGGTCGCGACCATTGATGAGCGGGAGGACCAGTGTTTACTACAGTGGAAGCCTTCTCCGCGTACCCGGGTATACTTAGCCTGACGTGAACATATAAAACTCCACTATGGGTTAAGGAATCACATGTCACCTCCTAAGTCGTAGAACTGATCAACTGTTACGGCCGGATCGGCACATTTGATAGAAATTGTTAATCAGTAGACTAATTGTAAACACGTTGCATCTTACAAGCGCTACGGACGGCCAATCAGACGGTCAGATTTATACCCTGCTTAATGGTACTGATAAATATTCCAGAAATGAACAATATGGGCTTTTCTTTCGGATCATGGATTGGATGAAGGATGCGGCATGTTTCCCAGAAGTACCGGCCCTCTGGCCGCTCCATCATGCACTGCCCGACGACCTCGCTTGGTACAAAAGCTGATAAGAGGCTTAGACGGCCGAGCGTATTAGAGTTGTCCGTCTTGTAGAGACTACTCCAGAGAACTACACGCGAAACGGAGTTACCGCCTTATGCTGCCCTCCAGCGGATGGGTACAGATGCGTCAGATACGATATAAAGCACGAAGTTTGAAAAACGTTGGATGCAAGTACTGGTCGATAAACGAGGTACTCACGCGAGTTTCGCGGTGGAATACAGGAACCAAACATGAGCTCGTAGTGTCAGAAGAAGTTTTTAGAAAAACAGTTGGATCACCGGGCGTCGATGTACCTCATTGCCCATCGTTCGTTGCAAGCGTCTGCTTCTGCGACGTATCATCTGGCTGGTCGCTTTCATTCAACTGTAACTCCGGGTTTTTACAGCAATTTCCTCAATTCTCAGGTACTATTTGCCGTAGCCGCCACGGTTCGCAACGGCT'"
   ]
  },
  {
   "cell_type": "code",
   "execution_count": 41,
   "metadata": {},
   "outputs": [
    {
     "name": "stdout",
     "output_type": "stream",
     "text": [
      "TTGCGTCGAAAATGGTCGCGACCATTGATGAGCGGGAGGACCAGTGTTTACTACAGTGGAAGCCTTCTCCGCGTACCCGGGTATACTTAGCCTGACGTGAACATATAAAACTCCACTATGGGTTAAGGAATCACATGTCACCTCCTAAGTCGTAGAACTGATCAACTGTTACGGCCGGATCGGCACATTTGATAGAAATTGTTAATCAGTAGACTAATTGTAAACACGTTGCATCTTACAAGCGCTACGGACGGCCAATCAGACGGTCAGATTTATACCCTGCTTAATGGTACTGATAAATATTCCAGAAATGAACAATATGGGCTTTTCTTTCGGATCATGGATTGGATGAAGGATGCGGCATGTTTCCCAGAAGTACCGGCCCTCTGGCCGCTCCATCATGCACTGCCCGACGACCTCGCTTGGTACAAAAGCTGATAAGAGGCTTAGACGGCCGAGCGTATTAGAGTTGTCCGTCTTGTAGAGACTACTCCAGAGAACTACACGCGAAACGGAGTTACCGCCTTATGCTGCCCTCCAGCGGATGGGTACAGATGCGTCAGATACGATATAAAGCACGAAGTTTGAAAAACGTTGGATGCAAGTACTGGTCGATAAACGAGGTACTCACGCGAGTTTCGCGGTGGAATACAGGAACCAAACATGAGCTCGTAGTGTCAGAAGAAGTTTTTAGAAAAACAGTTGGATCACCGGGCGTCGATGTACCTCATTGCCCATCGTTCGTTGCAAGCGTCTGCTTCTGCGACGTATCATCTGGCTGGTCGCTTTCATTCAACTGTAACTCCGGGTTTTTACAGCAATTTCCTCAATTCTCAGGTACTATTTGCCGTAGCCGCCACGGTTCGCAACGGCT\n",
      "\n"
     ]
    }
   ],
   "source": [
    "f = open('rosalind_dna.txt', 'r')\n",
    "DNAstr1 = f.read()\n",
    "print(DNAstr1)"
   ]
  },
  {
   "cell_type": "code",
   "execution_count": 42,
   "metadata": {},
   "outputs": [
    {
     "name": "stdout",
     "output_type": "stream",
     "text": [
      "231 206 214 223\n"
     ]
    }
   ],
   "source": [
    "cA, cC, cG, cT = 0,0,0,0\n",
    "for nucleotide in DNAstr1:\n",
    "    if (nucleotide == 'A'):\n",
    "        cA += 1\n",
    "    elif (nucleotide == 'C'):\n",
    "        cC += 1\n",
    "    elif (nucleotide == 'G'):\n",
    "        cG += 1\n",
    "    elif (nucleotide == 'T'):\n",
    "        cT += 1\n",
    "print(cA, cC, cG, cT)"
   ]
  },
  {
   "cell_type": "markdown",
   "metadata": {},
   "source": [
    "### The Second Nucleic Acid"
   ]
  },
  {
   "cell_type": "markdown",
   "metadata": {},
   "source": [
    "Given: A DNA string t having length at most 1000 nt.\n",
    "\n",
    "Return: The transcribed RNA string of t."
   ]
  },
  {
   "cell_type": "code",
   "execution_count": 44,
   "metadata": {},
   "outputs": [],
   "source": [
    "DNAstr2 = 'GATGGAACTTGACTACGTAAATT'"
   ]
  },
  {
   "cell_type": "code",
   "execution_count": 46,
   "metadata": {},
   "outputs": [
    {
     "name": "stdout",
     "output_type": "stream",
     "text": [
      "ACTCGAAACCGTTGGTCAAACCGATGCTGGGAGTGCATTAAGGATTTTCATTTCGTGGTTCACCGGACCTTTATATCTAAGTATCAAAACCTAACCACTGTCATTAAAGTGTCGCCTCCACTTCGGTCGTTACTTACACGACACGTTAGGCCACCGAAAATCTGGGACTAGCAGTGTACCGCGCCGTAACGCATCAGCCTCATTCGGCCCTATACATAGATGTGAGCGACTGACTGCGCTGCAGCAAATTACGCCGTACAGAATATGACAGATAATTACTGATACGGCCTCATTGTCCTTGGCCACACGAAAAGGAACGACGCAAGATCAAGCAAGCTGAGCTAGTGGAAGTGGGCTCTCCATTTCCGGCACTAATCGAACGCCGCTGGGCCGCAATGATGCGTCTGGGGGAAGGCGCAAAGGGAGTGTGAGAGTCATTGGCACTACACTCTTATTGCTCGGCCGTCCCCAATGGCCGTATACCACTCCTCTAACGTCTTAATCAGCAGGGACATCCGACCCCAACTGGCATCTGTTTCGCCCGAGACAAGAGCGTGGCCCCATGGGCCTAAGTCTGCCGGGCGATACTTTGCGTTAACCAAACGAAAGGAATCAGTGGTGTTTAGTCCCACGAAAAGAGGGCTGTTACGCACCTTCCCAAACAGCGTCGGAGAACTTGGTTACGTGTAATACAGCCGTGAGTTAATGAACAGCTTCGACTCCTTACGACACACCTTTTCACCAAGTCCAAAGTGACCGACGCTCTGAAGTGGCCGGATGAGCTCCCGGACGGCGCTCTCTTTGCAAGGATAAATCGCCGTATCAAGTTAGCGGGACGTAGCTCGGAATCTGGCGTCGGGGTGAGTGTGTAATTCACGTTAGACCGGTTGCGAAAACGAGGTCTACAGAATCAGAAATAACCGGGCTT\n",
      "\n"
     ]
    }
   ],
   "source": [
    "f = open('rosalind_rna.txt', 'r')\n",
    "DNAstr2 = f.read()\n",
    "print(DNAstr2)"
   ]
  },
  {
   "cell_type": "code",
   "execution_count": 47,
   "metadata": {},
   "outputs": [
    {
     "data": {
      "text/plain": [
       "'ACUCGAAACCGUUGGUCAAACCGAUGCUGGGAGUGCAUUAAGGAUUUUCAUUUCGUGGUUCACCGGACCUUUAUAUCUAAGUAUCAAAACCUAACCACUGUCAUUAAAGUGUCGCCUCCACUUCGGUCGUUACUUACACGACACGUUAGGCCACCGAAAAUCUGGGACUAGCAGUGUACCGCGCCGUAACGCAUCAGCCUCAUUCGGCCCUAUACAUAGAUGUGAGCGACUGACUGCGCUGCAGCAAAUUACGCCGUACAGAAUAUGACAGAUAAUUACUGAUACGGCCUCAUUGUCCUUGGCCACACGAAAAGGAACGACGCAAGAUCAAGCAAGCUGAGCUAGUGGAAGUGGGCUCUCCAUUUCCGGCACUAAUCGAACGCCGCUGGGCCGCAAUGAUGCGUCUGGGGGAAGGCGCAAAGGGAGUGUGAGAGUCAUUGGCACUACACUCUUAUUGCUCGGCCGUCCCCAAUGGCCGUAUACCACUCCUCUAACGUCUUAAUCAGCAGGGACAUCCGACCCCAACUGGCAUCUGUUUCGCCCGAGACAAGAGCGUGGCCCCAUGGGCCUAAGUCUGCCGGGCGAUACUUUGCGUUAACCAAACGAAAGGAAUCAGUGGUGUUUAGUCCCACGAAAAGAGGGCUGUUACGCACCUUCCCAAACAGCGUCGGAGAACUUGGUUACGUGUAAUACAGCCGUGAGUUAAUGAACAGCUUCGACUCCUUACGACACACCUUUUCACCAAGUCCAAAGUGACCGACGCUCUGAAGUGGCCGGAUGAGCUCCCGGACGGCGCUCUCUUUGCAAGGAUAAAUCGCCGUAUCAAGUUAGCGGGACGUAGCUCGGAAUCUGGCGUCGGGGUGAGUGUGUAAUUCACGUUAGACCGGUUGCGAAAACGAGGUCUACAGAAUCAGAAAUAACCGGGCUU\\n'"
      ]
     },
     "execution_count": 47,
     "metadata": {},
     "output_type": "execute_result"
    }
   ],
   "source": [
    "transcRNA = ''\n",
    "for nucleotide in DNAstr2:\n",
    "    if (nucleotide == 'T'):\n",
    "        transcRNA += 'U'\n",
    "    else:\n",
    "        transcRNA += nucleotide\n",
    "transcRNA"
   ]
  },
  {
   "cell_type": "markdown",
   "metadata": {},
   "source": [
    "or"
   ]
  },
  {
   "cell_type": "code",
   "execution_count": 48,
   "metadata": {},
   "outputs": [
    {
     "data": {
      "text/plain": [
       "'ACUCGAAACCGUUGGUCAAACCGAUGCUGGGAGUGCAUUAAGGAUUUUCAUUUCGUGGUUCACCGGACCUUUAUAUCUAAGUAUCAAAACCUAACCACUGUCAUUAAAGUGUCGCCUCCACUUCGGUCGUUACUUACACGACACGUUAGGCCACCGAAAAUCUGGGACUAGCAGUGUACCGCGCCGUAACGCAUCAGCCUCAUUCGGCCCUAUACAUAGAUGUGAGCGACUGACUGCGCUGCAGCAAAUUACGCCGUACAGAAUAUGACAGAUAAUUACUGAUACGGCCUCAUUGUCCUUGGCCACACGAAAAGGAACGACGCAAGAUCAAGCAAGCUGAGCUAGUGGAAGUGGGCUCUCCAUUUCCGGCACUAAUCGAACGCCGCUGGGCCGCAAUGAUGCGUCUGGGGGAAGGCGCAAAGGGAGUGUGAGAGUCAUUGGCACUACACUCUUAUUGCUCGGCCGUCCCCAAUGGCCGUAUACCACUCCUCUAACGUCUUAAUCAGCAGGGACAUCCGACCCCAACUGGCAUCUGUUUCGCCCGAGACAAGAGCGUGGCCCCAUGGGCCUAAGUCUGCCGGGCGAUACUUUGCGUUAACCAAACGAAAGGAAUCAGUGGUGUUUAGUCCCACGAAAAGAGGGCUGUUACGCACCUUCCCAAACAGCGUCGGAGAACUUGGUUACGUGUAAUACAGCCGUGAGUUAAUGAACAGCUUCGACUCCUUACGACACACCUUUUCACCAAGUCCAAAGUGACCGACGCUCUGAAGUGGCCGGAUGAGCUCCCGGACGGCGCUCUCUUUGCAAGGAUAAAUCGCCGUAUCAAGUUAGCGGGACGUAGCUCGGAAUCUGGCGUCGGGGUGAGUGUGUAAUUCACGUUAGACCGGUUGCGAAAACGAGGUCUACAGAAUCAGAAAUAACCGGGCUU\\n'"
      ]
     },
     "execution_count": 48,
     "metadata": {},
     "output_type": "execute_result"
    }
   ],
   "source": [
    "transcRNA = DNAstr2.replace('T','U')\n",
    "transcRNA"
   ]
  },
  {
   "cell_type": "markdown",
   "metadata": {},
   "source": [
    "### The Secondary and Tertiary Structures of DNA"
   ]
  },
  {
   "cell_type": "markdown",
   "metadata": {},
   "source": [
    "Given: A DNA string s of length at most 1000 bp.\n",
    "\n",
    "Return: The reverse complement sc of s."
   ]
  },
  {
   "cell_type": "code",
   "execution_count": 49,
   "metadata": {},
   "outputs": [],
   "source": [
    "DNAstr3 = 'AAAACCCGGT'"
   ]
  },
  {
   "cell_type": "code",
   "execution_count": 54,
   "metadata": {},
   "outputs": [
    {
     "name": "stdout",
     "output_type": "stream",
     "text": [
      "ATGCCGGCCTTGAGTCGAGTAGAATATGGCAGTGAGTATCAAGCTGATCCACTACGTGATTCCGTGCGCGCAGCCGGAAATTTCATTGTAAACTCTCCCGGTCTTCGGTGGCGTAGAAGTACTAGTGTAATGAGTGTAGTCTCTGCCGATACGACACAGAATCTACAAATTCCATTACTTCTGTCTGCCCTCGATACGTTATTGGTTGATACTTATGATCGGTACACTCCCGGCACACCATACCTCAACCATCTCCGTTTCAACCGCGGCCGCTAGTCAGAGCCCAGACGTTCTGATACGAAGAGATACAGTGATAATTAATCTATGCAGGATCTAGCATCTAGACGGGCCATTGGTGCATTCCATAAATTTCGCGTATCCGAACCTCCTAGTTTCTGCAGTATCGGTAGGTGGTTTAGATAGGGAAATGTCTAGGTAATGCAAACTCGTGCACAGGATGATACGTCAAACTTATAAAAAGGCGTTTTAGGCTGGGTTTGACTGAATTTGCATAAGTGCGGTTCATCTGACCTTCGCAACGGAGTCGGTATAACGAATGTAGATCTAATTACACATTATTGACCTGCCTAGTATTTACAATGCTACTCTCTCACCTCGGAGGCTTCCTATCTAAGCTGGGGGTGCCCTAGACAATTTATGTGTCGATACCCCGCGACTGTTATGGAAGTATCGAAGGGGGCGGTCGCGGTCGGTACCCCGAACGAGTATTTCGTGAGGCCGGTAGGTAACCAACTTTGAGTGGTTGCTACAAAATCCTACATAATGTTAGGGCCCCACGCGCATTGAAGTTTGCACCGGTTTAAGGGACTGCAAGATGCACACCTCAACGTCTGATGCTGTGATCAACGCGACCTCCGTTTCCGGGAACTTGCCGTG\n",
      "\n"
     ]
    }
   ],
   "source": [
    "f = open('rosalind_revc.txt', 'r')\n",
    "DNAstr3 = f.read()\n",
    "print(DNAstr3)"
   ]
  },
  {
   "cell_type": "code",
   "execution_count": 55,
   "metadata": {},
   "outputs": [
    {
     "data": {
      "text/plain": [
       "'CACGGCAAGTTCCCGGAAACGGAGGTCGCGTTGATCACAGCATCAGACGTTGAGGTGTGCATCTTGCAGTCCCTTAAACCGGTGCAAACTTCAATGCGCGTGGGGCCCTAACATTATGTAGGATTTTGTAGCAACCACTCAAAGTTGGTTACCTACCGGCCTCACGAAATACTCGTTCGGGGTACCGACCGCGACCGCCCCCTTCGATACTTCCATAACAGTCGCGGGGTATCGACACATAAATTGTCTAGGGCACCCCCAGCTTAGATAGGAAGCCTCCGAGGTGAGAGAGTAGCATTGTAAATACTAGGCAGGTCAATAATGTGTAATTAGATCTACATTCGTTATACCGACTCCGTTGCGAAGGTCAGATGAACCGCACTTATGCAAATTCAGTCAAACCCAGCCTAAAACGCCTTTTTATAAGTTTGACGTATCATCCTGTGCACGAGTTTGCATTACCTAGACATTTCCCTATCTAAACCACCTACCGATACTGCAGAAACTAGGAGGTTCGGATACGCGAAATTTATGGAATGCACCAATGGCCCGTCTAGATGCTAGATCCTGCATAGATTAATTATCACTGTATCTCTTCGTATCAGAACGTCTGGGCTCTGACTAGCGGCCGCGGTTGAAACGGAGATGGTTGAGGTATGGTGTGCCGGGAGTGTACCGATCATAAGTATCAACCAATAACGTATCGAGGGCAGACAGAAGTAATGGAATTTGTAGATTCTGTGTCGTATCGGCAGAGACTACACTCATTACACTAGTACTTCTACGCCACCGAAGACCGGGAGAGTTTACAATGAAATTTCCGGCTGCGCGCACGGAATCACGTAGTGGATCAGCTTGATACTCACTGCCATATTCTACTCGACTCAAGGCCGGCAT'"
      ]
     },
     "execution_count": 55,
     "metadata": {},
     "output_type": "execute_result"
    }
   ],
   "source": [
    "revComp = ''\n",
    "for nucleotide in reversed(DNAstr3):\n",
    "    if (nucleotide == 'T'):\n",
    "        revComp += 'A'\n",
    "    elif (nucleotide == 'C'):\n",
    "        revComp += 'G'\n",
    "    elif (nucleotide == 'G'):\n",
    "        revComp += 'C'\n",
    "    elif (nucleotide == 'A'):\n",
    "        revComp += 'T'  \n",
    "    \n",
    "\n",
    "revComp"
   ]
  },
  {
   "cell_type": "markdown",
   "metadata": {},
   "source": [
    "### Counting Point Mutations"
   ]
  },
  {
   "cell_type": "markdown",
   "metadata": {},
   "source": [
    "Given: Two DNA strings s and t of equal length (not exceeding 1 kbp).\n",
    "\n",
    "Return: The Hamming distance dH(s,t)."
   ]
  },
  {
   "cell_type": "code",
   "execution_count": 2,
   "metadata": {},
   "outputs": [],
   "source": [
    "s1 = \"GAGCCTACTAACGGGAT\"\n",
    "s2 = \"CATCGTAATGACGGCCT\""
   ]
  },
  {
   "cell_type": "code",
   "execution_count": 65,
   "metadata": {},
   "outputs": [],
   "source": [
    "f = open('rosalind_hamm.txt', 'r')\n",
    "DNAstr = f.read()\n",
    "#print(DNAstr)"
   ]
  },
  {
   "cell_type": "code",
   "execution_count": 64,
   "metadata": {},
   "outputs": [],
   "source": [
    "s1 = DNAstr.split()[0]\n",
    "s2 = DNAstr.split()[1]"
   ]
  },
  {
   "cell_type": "markdown",
   "metadata": {},
   "source": [
    "Matching nucleotides are: A and T as well as G and T. "
   ]
  },
  {
   "cell_type": "code",
   "execution_count": 59,
   "metadata": {},
   "outputs": [
    {
     "name": "stdout",
     "output_type": "stream",
     "text": [
      "453\n"
     ]
    }
   ],
   "source": [
    "pointMut = 0\n",
    "for i in range(0,len(s1)):\n",
    "    if (s1[i] != s2[i]):\n",
    "        pointMut += 1\n",
    "\n",
    "print(pointMut)"
   ]
  },
  {
   "cell_type": "markdown",
   "metadata": {},
   "source": [
    "### Computing GC Content"
   ]
  },
  {
   "cell_type": "markdown",
   "metadata": {},
   "source": [
    "Given: At most 10 DNA strings in FASTA format (of length at most 1 kbp each).\n",
    "\n",
    "Return: The ID of the string having the highest GC-content, followed by the GC-content of that string. Rosalind allows for a default error of 0.001 in all decimal answers unless otherwise stated; please see the note on absolute error below."
   ]
  },
  {
   "cell_type": "code",
   "execution_count": 82,
   "metadata": {},
   "outputs": [
    {
     "data": {
      "text/plain": [
       "'CCTGCGGAAGATCGGCACTAGAATAGCCAGAACCGTTTCTCTGAGGCTTCCGGCCTTCCCTCCCACTAATAATTCTGAGG'"
      ]
     },
     "execution_count": 82,
     "metadata": {},
     "output_type": "execute_result"
    }
   ],
   "source": [
    "DNAstr = 'CCTGCGGAAGATCGGCACTAGAATAGCCAGAACCGTTTCTCTGAGGCTTCCGGCCTTCCCTCCCACTAATAATTCTGAGG'\n",
    "DNAstr"
   ]
  },
  {
   "cell_type": "code",
   "execution_count": 161,
   "metadata": {},
   "outputs": [
    {
     "name": "stdout",
     "output_type": "stream",
     "text": [
      "930 458 0.4924731182795699\n",
      "902 461 0.5110864745011087\n",
      "867 419 0.48327566320645904\n",
      "912 441 0.48355263157894735\n",
      "879 442 0.502844141069397\n",
      "993 488 0.4914400805639476\n",
      "\n",
      "\n",
      "\n",
      "   index              0                                                  1  \\\n",
      "0      1  Rosalind_5646  GTCTGAAGTTTATTAAGGTCCACAAGGTTCGATATCTATCGAAACT...   \n",
      "1      4  Rosalind_9202  GTGCTCTTACCACGTCTCTTGGGGATATACTTCAGCCTGCTATGCA...   \n",
      "2      0  Rosalind_8372  ACCTAGAGGCAGGGGCCGGTGCCCTAATGCCGGGCGCTCACCTTAT...   \n",
      "3      5  Rosalind_7216  CTTTCTCCGTGAACCCTTTAGCTGGTGAGTTAATGAGTGGATTCTT...   \n",
      "4      3  Rosalind_0831  ATAGCTATGGACTAAGTCATGTGAAGTCCGGATGATGGTCTTTTTT...   \n",
      "5      2  Rosalind_5662  CAGCGACAGTACGCCGCCACGGGGTTGGGTTCCTCTTAACAGATGA...   \n",
      "\n",
      "           2  \n",
      "0  51.108647  \n",
      "1  50.284414  \n",
      "2  49.247312  \n",
      "3  49.144008  \n",
      "4  48.355263  \n",
      "5  48.327566  \n",
      "\n",
      "Result:\n",
      "Rosalind_5646\n",
      "51.108647\n"
     ]
    }
   ],
   "source": [
    "f = open('rosalind_gc.txt', 'r')\n",
    "DNAstr = f.read()\n",
    "DNAstr = DNAstr.split('>')\n",
    "GCper = []\n",
    "for fasta in DNAstr[1:]: \n",
    "    fasta = fasta.split(maxsplit=1)\n",
    "    fasta[1] = fasta[1].replace('\\n','')\n",
    "    #print(fasta)\n",
    "    nuclCounter = 0\n",
    "    GCCounter = 0\n",
    "    for nucleotide in fasta[1]:\n",
    "        nuclCounter += 1\n",
    "        if ((nucleotide == 'G') | (nucleotide == 'C')):\n",
    "            GCCounter += 1\n",
    "    print(nuclCounter, GCCounter, GCCounter/nuclCounter)\n",
    "    pertemp = 100 *(GCCounter/nuclCounter)\n",
    "    GCper.append(fasta[0])\n",
    "    GCper.append(fasta[1])\n",
    "    GCper.append(pertemp)\n",
    "    #DNAstrfasta = fasta.append('test')\n",
    "print()\n",
    "#print(GCper)\n",
    "print()\n",
    "mat = []\n",
    "while GCper != []:\n",
    "    mat.append(GCper[:3])\n",
    "    GCper = GCper[3:]\n",
    "#print(mat)\n",
    "print()\n",
    "\n",
    "dfR = pd.DataFrame(mat).sort_values(by=[2], ascending=False).reset_index()\n",
    "print(dfR)\n",
    "print()\n",
    "print('Result:')\n",
    "print(dfR[0][0])\n",
    "print(round(dfR[2][0],6))\n"
   ]
  },
  {
   "cell_type": "markdown",
   "metadata": {},
   "source": [
    "### Translating RNA into Protein"
   ]
  },
  {
   "cell_type": "markdown",
   "metadata": {},
   "source": [
    "Given: An RNA string s corresponding to a strand of mRNA (of length at most 10 kbp).\n",
    "\n",
    "Return: The protein string encoded by s."
   ]
  },
  {
   "cell_type": "code",
   "execution_count": 162,
   "metadata": {},
   "outputs": [],
   "source": [
    "RNAstr = 'AUGGCCAUGGCGCCCAGAACUGAGAUCAAUAGUACCCGUAUUAACGGGUGA'"
   ]
  },
  {
   "cell_type": "code",
   "execution_count": 171,
   "metadata": {},
   "outputs": [
    {
     "name": "stdout",
     "output_type": "stream",
     "text": [
      "MEMETGPPRRSSKFHLRKPRRLNCMTSVGPKAVYPPSLVRGYYYLVANSEEPFSFPENSFRFLIRTMYQTPECHRRLVPAAPQFLTFYPPLPCRDHDNADSSYAQTPTLPLIARNAEQVEADQRPLLVGYSRADCRKQLSEVRTSTVITHHRTLTRTPHFSSLTNPADGPPSTTDIAGNTNFKPISLMLYYARTPIERIILGRDQETTLFPSHDGIKGSRHANPRQGILEDPSLCIVWVYEPRRSHLVEINGIEERPTPNLPELSPRSRVPQFLINKVSLNAQRSLDLGCKHSYDSKDSLGMTSSRIGQALPSLCCGGPVGDGGVTKWLGNLSNLGGITQAPSFPAHRYLLPFSASQSRNGTITAILLWRLSRPRPTTVVARDPIDGQHTMVVPEASLLTHNQLRSSGRCVLENPISHRLRTFSTFTFFLAPYRTRFIIVRRLNNLYKGRSRVDQRYPILQEIRIDKLSSHFSVLPLFLNFSSVRLHTLPGVDRIEVGAFFSTCPPAPESCRWKTLHDHTLYNNPLDPGCPPKSWRTPVAMETLQSLRLEVKAGQLWIPYTRTVSGNGLERRRVDHNQAGSTKQSPHILRRRSRTTLSEFRCFDKALQFYCIFAHMYLNTGDSHGQPVRPVTPRARKKGCQRCWIRYRTNAHSFGPPVKMRILGPNYGGHARVTVRYSRCYSGLFMSLPPNTPFEPLSTPILSFLTQCTNTAKRIAEDAYESELRFGRLRPLACPGFVPRYTGAQELRFQFVRVAHHLTDTLANIGRQSFLPDYSSRRLLAHFNISRCVTLLSAVRAALDIGSMVAIFPIGSHRIQSESTSISGCRRHPCVLARVTMFAGKSSEVSRNRNALAFCNSPGKKIGPLPRGSNLAPISVWSRNVWPVLPGTVSVLSDCRYVRVLSLDDLSLSYSALHANLIGGKFVVNANVGASNLWNSLSQHLQRCKNCFTRKTKSIPIVEGVQNCERPIPHTLGRTTLTCNTSVHGRHLGLFSPFSVFLTTQIRRKEHMRSCPQTVAASPRFYEQTSSPGRKHSQTEENNPVITPLKDEDIMMRDVKLLLGISQAGSLCKIPRSLRVAALITLWWIIIRQPTLQHLRESDSEATPKTHETLWVGQTSPQVVSQLDWGECLHTFLFSICIYSYTQCLGQSSGLTQMTLRICVRQVLQVDPRSPKNVSLWFVRSRDNRGNLLRAPSASLELKRHTVPTPLLSNPYLIARGEWAGSGTWVGETGLALFQLLLCVSFPLIQGVSPGREGRPRAHKSKLITIPTVYGPDLCGIGDRLKKSTNRQIIYLSCARTRSPPAAPPPTLRKDKLCKRVENSHGSASPERLLLSLSGLLITSVRFCEPKGVAGPLGGMQFISLSRLSHWSGLSRQGIKSIDSELKVHRVQVALSGGCSSAPRLCNAGQNQSDVCCIHENVNVGSTSVRICPRCGTCIGLLKRTTTSITREGLYFQAYTQCPSRKTIHLDPLAAISTAPEHNHAGPLLLLTRPCGRLCRRPIGLVLTLAFDLTSHVGSRYSRNLTNSQRSSPEVAGPLASYHWRLHSPISPKLNLSRQCVRHHNRELSDASWQCWDCLRFAPCKTGGLQIVTRDRTTHGPQSRDIHLRLTPLRQDFERFQSRACHKCLVRHRSLRPMVATCGRIGVIQFRFCPLPIKAQLLCNPKMATIRLRGSINRSSRALAKFAGADYLVLVQCSWLTFVSYLLLLHEFYIISAEDLPIVVAQLHHVNPPLPHWSVCTYASVWKCSLTASMSLSMTRLIFGRAKGLFGRSLVSTSLSNKRISKNNESFEEDPQVHVRPPRYSAAPVLSTFPYGYMIGLPRINMPSRAGSWVISWCHQRTTAKFNIGCGRPGNADLHLAGTSRIDSVVIYRKLSDCIALLLSLRGYLTINVTLPTTTSSGCFSSSVSSLNQLRLSALVEYRLIAASQRFAYFTLRAKLRLTLRARIGVLMVICVVHLAVIDLGTHAMNISALGSNSLPKVTHKGPFPTNVYSRESYLTLGIHPPVYGALRETTPEIPCTSTHSKMRGDHPISDAHPLATNYPKQLGTSPCPLVSSLCMSRASVETSGSKRRDSTRRPIRGTKTYPSYMILLSGLSGHYERKALLTEFSLLVLHPHNTYAALIKTSCLAQYSPHVITMTKQRNKGSKTPSPVRTVPLSERRLALLLTMSTNRYSNNTGFFNHLDKLLKVLRSSELSYSLRIRTRHLTLTHRLAITEARGKPGGSREIFIGLSIATEDIRKKLEKEAITGEEATGTCAQCVTRCLHGLGPFQTALISTLFSEHLPTMFTQLGYVRGSIAGSATTSSLSACCIYPKIILLIPKLGALRNTYNANPEIVSIWSCSSRLNCYYEAILTFNFGIWCSRTGFGYPEERKYSVPQLLTRGSDGSAAYRTADENVIITRSRDEDNDLLQGGILRYNDTNASVVAKPRNASNKAPQLRVSCRTLISLDIRLGLWLRLLAIVTRHTCPGHEFPGPERSVRFFAPSVPSLLRPTLPCIQTFVHFKMSVKPIWRLHHEFLSIAAVLLGTSKRRQKPGHIILRVSAPHDVAGSVIIIAAAMAKIDDHPCRNANIICTYRICISLHCKNCRDTQTQNLKTWRMHASVTRQHREVMQEASLPHPHTSAISPVSIPFSGAGLLRNIVFLEHIVGHLVELLAYWELYNRCSVHGSFAILLLRFGSLGSRVPAVLPYLEAIAPPNALFPDSKASWGGADTLVPLVTALGAFNARRIRPQLNRRVHVEAACTEYACGNRRAHGFQSFEPMLFKAMNVWVPAVLKRCALTSEPQCRLPRNKLLEQGSLLNSVGRQDSPNAHCEAPPTAHLAGEVIRSTVRHAVSSTCFSKRQSSVLALRTTLFIFSRTPKRNVDEQLLLGAPSLGDTCCVIYQRSNAHRIVAWPFRTVRRLWTNFSQRLAWNSGSDESIADLSCYQPLVCLWKPRTRVDDARNGCRTPYLNIDLSHNHVWGERPISYDGRRVSKNYRLYSRPQSTKMSSGLRDWSGSLGAAPCRRLAAVNLNPTQPVSLPRGYVRVYNLAYFSRLKT\n"
     ]
    }
   ],
   "source": [
    "f = open('rosalind_prot.txt', 'r')\n",
    "RNAstr = f.read()\n",
    "RNAstr = RNAstr.replace('\\n','').replace('U','T')\n",
    "#print(RNAstr)\n",
    "protein = ''\n",
    "table = {\n",
    "        'ATA':'I', 'ATC':'I', 'ATT':'I', 'ATG':'M',\n",
    "        'ACA':'T', 'ACC':'T', 'ACG':'T', 'ACT':'T',\n",
    "        'AAC':'N', 'AAT':'N', 'AAA':'K', 'AAG':'K',\n",
    "        'AGC':'S', 'AGT':'S', 'AGA':'R', 'AGG':'R',                \n",
    "        'CTA':'L', 'CTC':'L', 'CTG':'L', 'CTT':'L',\n",
    "        'CCA':'P', 'CCC':'P', 'CCG':'P', 'CCT':'P',\n",
    "        'CAC':'H', 'CAT':'H', 'CAA':'Q', 'CAG':'Q',\n",
    "        'CGA':'R', 'CGC':'R', 'CGG':'R', 'CGT':'R',\n",
    "        'GTA':'V', 'GTC':'V', 'GTG':'V', 'GTT':'V',\n",
    "        'GCA':'A', 'GCC':'A', 'GCG':'A', 'GCT':'A',\n",
    "        'GAC':'D', 'GAT':'D', 'GAA':'E', 'GAG':'E',\n",
    "        'GGA':'G', 'GGC':'G', 'GGG':'G', 'GGT':'G',\n",
    "        'TCA':'S', 'TCC':'S', 'TCG':'S', 'TCT':'S',\n",
    "        'TTC':'F', 'TTT':'F', 'TTA':'L', 'TTG':'L',\n",
    "        'TAC':'Y', 'TAT':'Y', 'TAA':'', 'TAG':'',\n",
    "        'TGC':'C', 'TGT':'C', 'TGA':'', 'TGG':'W',\n",
    "    } #table from https://www.geeksforgeeks.org/dna-protein-python-3/\n",
    "for i in range(0, len(RNAstr), 3):\n",
    "    codon = RNAstr[i:i + 3]\n",
    "    protein+= table[codon]\n",
    "print(protein)"
   ]
  },
  {
   "cell_type": "markdown",
   "metadata": {},
   "source": [
    "### IPRB - Mendel's First Law"
   ]
  },
  {
   "cell_type": "markdown",
   "metadata": {},
   "source": [
    "Given: Three positive integers k, m, and n, representing a population containing k+m+n organisms: k individuals are homozygous dominant for a factor, m are heterozygous, and n are homozygous recessive."
   ]
  },
  {
   "cell_type": "markdown",
   "metadata": {},
   "source": [
    "Return: The probability that two randomly selected mating organisms will produce an individual possessing a dominant allele (and thus displaying the dominant phenotype). Assume that any two organisms can mate."
   ]
  },
  {
   "cell_type": "markdown",
   "metadata": {},
   "source": [
    "Thinking process: I will just get three numbers, so that I could directly store them in an array by-hand. However, I will use txt-loading option and split this string data by spaces, convert them to integers and store them then individually in variables k, m and n. \n",
    "Then, it is necessary to compute the sum of those three values, so: k + m + n. "
   ]
  },
  {
   "cell_type": "markdown",
   "metadata": {},
   "source": [
    "To be continued..."
   ]
  },
  {
   "cell_type": "code",
   "execution_count": null,
   "metadata": {},
   "outputs": [],
   "source": []
  },
  {
   "cell_type": "code",
   "execution_count": null,
   "metadata": {},
   "outputs": [],
   "source": []
  },
  {
   "cell_type": "markdown",
   "metadata": {},
   "source": [
    "### Finding a Motif in DNA"
   ]
  },
  {
   "cell_type": "markdown",
   "metadata": {},
   "source": [
    "Given: Two DNA strings s and t (each of length at most 1 kbp)."
   ]
  },
  {
   "cell_type": "markdown",
   "metadata": {},
   "source": [
    "Return: All locations of t as a substring of s."
   ]
  },
  {
   "cell_type": "code",
   "execution_count": 13,
   "metadata": {},
   "outputs": [
    {
     "name": "stdout",
     "output_type": "stream",
     "text": [
      "ATAT found at position 2\n",
      "ATAT found at position 4\n",
      "ATAT found at position 10\n",
      "Output: 2 4 10\n"
     ]
    }
   ],
   "source": [
    "s = 'GATATATGCATATACTT'\n",
    "t = 'ATAT'\n",
    "\n",
    "naive_search(s,t)"
   ]
  },
  {
   "cell_type": "markdown",
   "metadata": {},
   "source": [
    "##### Solution with Pattern Matching Problem Algorithm "
   ]
  },
  {
   "cell_type": "code",
   "execution_count": 15,
   "metadata": {},
   "outputs": [],
   "source": [
    "f = open('rosalind_subs.txt', 'r')\n",
    "subsList = f.read().split()\n",
    "s = subsList[0]\n",
    "t = subsList[1]"
   ]
  },
  {
   "cell_type": "code",
   "execution_count": 28,
   "metadata": {},
   "outputs": [
    {
     "name": "stdout",
     "output_type": "stream",
     "text": [
      "DNA (s): CCAGTGGGGTTAGTGCAGTGGGCAGTGGGCAGTGGGGGACGCTGAGCGTCAGTGGGCAGTGGGGGCCATAATGAAACGTGTCACATGCAAATACAGTGGGGGAGCAGTGGGCAGTGGGCCAGTGGGCAGTGGGTGGGACCAGTGGGCAGTGGGGTATTCAGTGGGGCAGTGGGCAGTGGGCAGTGGGAATTCAAATTCAGTGGGCAGTGGGCAGTGGGCTGCCTTCCCAGTGGGCAGTGGGATGCCAGTGGGCCCAGTGGGTAGGCAGTGGGTCAGTGGGGACTCAGTGGGCGCAGTGGGACCAGTGGGCAGTGGGCACAGTGGGAAGGCAGTGGGAAGCAGTGGGCACAGTGGGCTTTCCAGTGGGTCAGTGGGCGGTCACAGTGGGCAGTGGGCAGTGGGTCAGTGGGGGGCAGTGGGGCAGTGGGTACAGTGGGGAACCAGTGGGTTCCTATCCACGTCAGTGGGCAGTGGGACAGTGGGGGCCAGTGGGCAGTGGGCAGTGGGCAGTGGGTATTTCCAGTGGGCAGTGGGCAGTGGGTCAGTGGGATCAGGCAGTGGGTATCCCCTATGCAGCAGCGGCAGCAGTGGGCAATTCTCAGTGGGTAGCGGGCGCGGTGCAGTGGGCAGTGGGTGCAGTGGGGTGCAGTGGGATCAGTGGGCTCACGTCAGTGGGCCCAGTGGGCATAGGTGTGTACAGTGGGACAGTGGGCAGTGGGCAGACAGTGGGACAGTGGGCAGTGGGGCAGTGGGCAGTGGGTCGCAGTGGGTGCAGTGGGCTGGCAGTGGGCAGTGGGCCAGTGGGACTTCAGTGGG\n",
      "\n",
      "Motif to find (t): CAGTGGGCA\n"
     ]
    }
   ],
   "source": [
    "print('DNA (s):', s)\n",
    "print('\\nMotif to find (t):',t)"
   ]
  },
  {
   "cell_type": "code",
   "execution_count": 27,
   "metadata": {},
   "outputs": [
    {
     "name": "stdout",
     "output_type": "stream",
     "text": [
      "Output: 16 23 50 105 120 140 167 174 198 205 228 303 310 340 382 389 462 487 494 501 521 528 586 621 679 706 713 732 747 784\n"
     ]
    }
   ],
   "source": [
    "f = open('rosalind_subs.txt', 'r')\n",
    "txt = f.read().split()\n",
    "s = txt[0]\n",
    "t = txt[1]\n",
    "#print('DNA:', s)\n",
    "#print('Motif to find:',t)\n",
    "\n",
    "naive_search(s,t)"
   ]
  },
  {
   "cell_type": "code",
   "execution_count": 26,
   "metadata": {},
   "outputs": [],
   "source": [
    "def naive_search(DNA, motif):\n",
    "    loc = set() #set for all starting-locations of motifs\n",
    "    dnaShort = len(DNA) - len(motif) + 1\n",
    "    for pos in range(dnaShort):\n",
    "        counter = 0 #counting matches between DNA sequence and Motif\n",
    "        for nucl in range(len(motif)):\n",
    "            if motif[nucl] == DNA[pos + nucl]:\n",
    "                counter += 1\n",
    "            else:\n",
    "                break\n",
    "        if counter == len(motif):\n",
    "            pos += 1\n",
    "            loc.add(pos)\n",
    "            #print(motif, \"found at position\", pos)\n",
    "            \n",
    "    loc = sorted(loc)\n",
    "    print('Output:', *loc)"
   ]
  },
  {
   "cell_type": "markdown",
   "metadata": {},
   "source": [
    "##### Solution with KMP: Knuth-Morris-Pratt Algorithm "
   ]
  },
  {
   "cell_type": "markdown",
   "metadata": {},
   "source": [
    "Sample dataset: "
   ]
  },
  {
   "cell_type": "code",
   "execution_count": 61,
   "metadata": {},
   "outputs": [
    {
     "name": "stdout",
     "output_type": "stream",
     "text": [
      "lps-list: [0, 0, 1, 2]\n",
      "Output: 2 4 10\n"
     ]
    }
   ],
   "source": [
    "s = 'GATATATGCATATACTT'\n",
    "t = 'ATAT'\n",
    "\n",
    "kmp_search(s,t)"
   ]
  },
  {
   "cell_type": "markdown",
   "metadata": {},
   "source": [
    "For simply receiving the lps-list:"
   ]
  },
  {
   "cell_type": "code",
   "execution_count": 62,
   "metadata": {},
   "outputs": [
    {
     "name": "stdout",
     "output_type": "stream",
     "text": [
      "lps-list: [0, 1, 2, 3, 0]\n"
     ]
    }
   ],
   "source": [
    "t = 'CCCCA'\n",
    "m = len(t)\n",
    "  \n",
    "lps = [0]*m #initialization of lps-table (list)\n",
    "lpsTableBuild(t, m, lps)# Creating pattern-list"
   ]
  },
  {
   "cell_type": "markdown",
   "metadata": {},
   "source": [
    "Downloaded test dataset:"
   ]
  },
  {
   "cell_type": "code",
   "execution_count": 68,
   "metadata": {},
   "outputs": [
    {
     "name": "stdout",
     "output_type": "stream",
     "text": [
      "DNA: CACCGTGGCACCGTGCACCACCGTGGGGGGCACCGTGTGGCACCGTGCACACCGTGCACCGTGCACCGTGCACCGTGCACCGTGCACCGTGAATGGGATCTTCACCGTGTCCACCGTGCACCGTGACACCGTGTTTGCACCGTGGCACCGTGCACCACCGTGCCACACCGTGCACCGTGACATCCACCGTGTCTGCACACATGCACCGTGTCACCGTGATCTACACCGTGGCCACCGTGCACCGTGACGGCCACCGTGTCTACGCACCGTGCCACCGTGACACACCGTGTCACTCACCGTGCTGCACCGTGAACGACACCGTGGCACCGTGGCGAGGCTGCACCGTGCACCGTGCAGCCACCGTGCCCACCGTGTCCACCGTGTACACCGTGTCACCGTGCTGCAGCACCGTGGCACCGTGATCACACCGTGAATTCGGCCCAGTGCACCGTGCTAAATCACCGTGCACCGTGGTCACCGTGTTTAAAACACCGTGCCACCGTGCTGAATGGCTACACCGTGCTCACCGTGGAACCACCGTGGCACCGTGCTATGTCACCGTGGTACACCGTGCACCGTGACACCGTGTTCCCCTGCCCTTCTACACCGTGTAGTCCGCACCGTGCACCGTGGCACCGTGACACCGTGGCACACCGTGCACGAGTCGAACCCCACCGTGGGTAATCCCACCGTGTTCACCGTGGTAGTGCAGTCACCGTGCTCACGTGGACACCGTGTCGGTGAATCACCGTGTCCACCGTGATACTCACCGTGACACCGTGCCACCGTGGACACCGTGCACCGTGTTCACCGTGCACCGTGAGGACACCGTGCGCCACCGTGTCACCGTGTAGTACACCGTGCTCACCGTG\n",
      "\n",
      "Motif to find: CACCGTGCA\n",
      "\n",
      "lps-list: [0, 0, 1, 1, 0, 0, 0, 1, 2]\n",
      "\n",
      "Output: 9 41 50 57 64 71 78 112 146 166 233 341 348 460 567 619 652 793 809\n"
     ]
    }
   ],
   "source": [
    "f = open('/Users/franzi/Downloads/rosalind_subs (3).txt', 'r')\n",
    "txt = f.read().split()\n",
    "s = txt[0]\n",
    "t = txt[1]\n",
    "\n",
    "print('DNA:', s)\n",
    "print('\\nMotif to find:',t)\n",
    "\n",
    "kmp_search(s,t)"
   ]
  },
  {
   "cell_type": "markdown",
   "metadata": {},
   "source": [
    "KMP function:"
   ]
  },
  {
   "cell_type": "code",
   "execution_count": 67,
   "metadata": {},
   "outputs": [],
   "source": [
    "def lpsTableBuild(motif, m, lps):\n",
    "    length = 0 #start of previous longest prefix suffix-length\n",
    "    lps[0] = 0 #impossible to have motif before motif start \n",
    "    i = 1 #index of lps-list\n",
    "  \n",
    "    #builds lps-table from positon i = 1 to m-1\n",
    "    while i < m:\n",
    "        if motif[i]!= motif[length]:\n",
    "            if length != 0:\n",
    "                length = lps[length-1]\n",
    "            else:\n",
    "                lps[i] = 0\n",
    "                i += 1\n",
    "        else:   \n",
    "            length += 1\n",
    "            lps[i] = length\n",
    "            i += 1\n",
    "            \n",
    "    print('\\nlps-list:', lps)"
   ]
  },
  {
   "cell_type": "code",
   "execution_count": 66,
   "metadata": {},
   "outputs": [],
   "source": [
    "def kmp_search(DNA, motif): \n",
    "    loc = set() #set for all starting-locations of motifs\n",
    "    m = len(motif)\n",
    "    n = len(DNA)\n",
    "  \n",
    "    lps = [0]*m #initialization of lps-table (list)\n",
    "    lpsTableBuild(motif, m, lps)# Creating pattern-list\n",
    "  \n",
    "    i,j = 0,0 # index for DNA[] and motif[] \n",
    "    while i < n:\n",
    "        if motif[j] == DNA[i]:\n",
    "            i += 1\n",
    "            j += 1\n",
    "        if j == m: #match found\n",
    "            #print(motif, \"found at position\", (i-j + 1))\n",
    "            loc.add(i-j + 1) #add to set\n",
    "            j = lps[j-1]\n",
    "  \n",
    "        #handling mismatches after matches (j) \n",
    "        elif i < n and motif[j] != DNA[i]:\n",
    "            #we know match due to previous matches of pattern\n",
    "            if j != 0:\n",
    "                j = lps[j-1]\n",
    "            else:\n",
    "                i += 1\n",
    "    loc = sorted(loc) \n",
    "    print('\\nOutput:', *loc)"
   ]
  },
  {
   "cell_type": "markdown",
   "metadata": {},
   "source": [
    "#### Check out my post for this specific substring finding problem on my portfolio website: www.franziskaahrend.de "
   ]
  },
  {
   "cell_type": "code",
   "execution_count": null,
   "metadata": {},
   "outputs": [],
   "source": []
  },
  {
   "cell_type": "code",
   "execution_count": null,
   "metadata": {},
   "outputs": [],
   "source": []
  },
  {
   "cell_type": "code",
   "execution_count": null,
   "metadata": {},
   "outputs": [],
   "source": []
  },
  {
   "cell_type": "markdown",
   "metadata": {},
   "source": [
    "Next to the here presented Naive approach, I will try the KMP approach. "
   ]
  },
  {
   "cell_type": "code",
   "execution_count": null,
   "metadata": {},
   "outputs": [],
   "source": []
  }
 ],
 "metadata": {
  "kernelspec": {
   "display_name": "Python 3",
   "language": "python",
   "name": "python3"
  },
  "language_info": {
   "codemirror_mode": {
    "name": "ipython",
    "version": 3
   },
   "file_extension": ".py",
   "mimetype": "text/x-python",
   "name": "python",
   "nbconvert_exporter": "python",
   "pygments_lexer": "ipython3",
   "version": "3.8.5"
  }
 },
 "nbformat": 4,
 "nbformat_minor": 4
}
